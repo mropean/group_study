{
 "cells": [
  {
   "cell_type": "code",
   "execution_count": 6,
   "metadata": {},
   "outputs": [],
   "source": [
    "%reset -f"
   ]
  },
  {
   "cell_type": "code",
   "execution_count": 31,
   "metadata": {},
   "outputs": [
    {
     "name": "stdout",
     "output_type": "stream",
     "text": [
      "0\n"
     ]
    }
   ],
   "source": [
    "N = int(input())\n",
    "count = 0\n",
    "while N != 1:\n",
    "    count += 1\n",
    "    if (N-1) % 3 == 0:\n",
    "        N -= 1\n",
    "    elif N % 3 == 0:\n",
    "        N = N // 3\n",
    "    elif N % 2 == 0:\n",
    "        N = N // 2\n",
    "    else:\n",
    "        N -= 1\n",
    "    print(N)\n",
    "\n",
    "print(count)"
   ]
  },
  {
   "cell_type": "code",
   "execution_count": 8,
   "metadata": {},
   "outputs": [
    {
     "name": "stdout",
     "output_type": "stream",
     "text": [
      "Ar\n",
      "A\n"
     ]
    }
   ],
   "source": [
    "N = int(input())\n",
    "temp = set()\n",
    "\n",
    "for i in range(N):\n",
    "    _in = input().split()[0]\n",
    "    if _in in temp:\n",
    "        temp.remove(_in)\n",
    "    else:\n",
    "        temp.add(_in)\n",
    "\n",
    "print(\"\\n\".join(sorted(list(temp), reverse=True)))"
   ]
  },
  {
   "cell_type": "code",
   "execution_count": 2,
   "metadata": {},
   "outputs": [],
   "source": [
    "a = set([i for i in range(6)])"
   ]
  },
  {
   "cell_type": "code",
   "execution_count": 4,
   "metadata": {},
   "outputs": [],
   "source": [
    "a.remove(0)"
   ]
  },
  {
   "cell_type": "code",
   "execution_count": 5,
   "metadata": {},
   "outputs": [
    {
     "data": {
      "text/plain": [
       "{1, 2, 3, 4, 5}"
      ]
     },
     "execution_count": 5,
     "metadata": {},
     "output_type": "execute_result"
    }
   ],
   "source": [
    "a"
   ]
  },
  {
   "cell_type": "code",
   "execution_count": null,
   "metadata": {},
   "outputs": [],
   "source": []
  }
 ],
 "metadata": {
  "kernelspec": {
   "display_name": "py9",
   "language": "python",
   "name": "python3"
  },
  "language_info": {
   "codemirror_mode": {
    "name": "ipython",
    "version": 3
   },
   "file_extension": ".py",
   "mimetype": "text/x-python",
   "name": "python",
   "nbconvert_exporter": "python",
   "pygments_lexer": "ipython3",
   "version": "3.9.16"
  },
  "orig_nbformat": 4,
  "vscode": {
   "interpreter": {
    "hash": "262af06dd84f9ebc964bd4460ad2e787788dd4e852338fd0bddd9e120c7e2c69"
   }
  }
 },
 "nbformat": 4,
 "nbformat_minor": 2
}
